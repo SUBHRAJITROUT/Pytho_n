{
  "nbformat": 4,
  "nbformat_minor": 0,
  "metadata": {
    "colab": {
      "provenance": []
    },
    "kernelspec": {
      "name": "python3",
      "display_name": "Python 3"
    },
    "language_info": {
      "name": "python"
    }
  },
  "cells": [
    {
      "cell_type": "markdown",
      "source": [
        "#1 Explain the key features of Python that make it a popular choice for programming\n",
        "ans : widely used in industry a lot of libraries (137000) ease of learning support offf big data data\n",
        "visualisation capability support of big data open source and free to use.\n"
      ],
      "metadata": {
        "id": "80dmZSk_o1gi"
      }
    },
    {
      "cell_type": "markdown",
      "source": [
        "#2 Describe the role of predefined keywords in Python and provide examples of how they are used in a\n",
        "program\n",
        "\n",
        "In Python, predefined keywords are reserved words that have special meanings and purposes within the language. These keywords are part of Python's syntax and cannot be used as identifiers (like variable names, function names, etc.) since they have pre-assigned functions. Keywords are fundamental to defining Python's structure, controlling flow, and handling logic.\n",
        "\n",
        "Some key predefined Python keywords and examples of how they are used include:\n",
        "\n",
        "### 1. **Control Flow Keywords**\n",
        "   - **`if`, `elif`, `else`**: Used for conditional statements.\n",
        "   - **Example**:\n",
        "     ```python\n",
        "     x = 10\n",
        "     if x > 5:\n",
        "         print(\"x is greater than 5\")\n",
        "     elif x == 5:\n",
        "         print(\"x is 5\")\n",
        "     else:\n",
        "         print(\"x is less than 5\")\n",
        "     ```\n",
        "\n",
        "   - **`for`, `while`**: Used for looping.\n",
        "   - **Example**:\n",
        "     ```python\n",
        "     for i in range(5):\n",
        "         print(i)  # Prints numbers from 0 to 4\n",
        "\n",
        "     count = 0\n",
        "     while count < 5:\n",
        "         print(count)\n",
        "         count += 1\n",
        "     ```\n",
        "\n",
        "   -"
      ],
      "metadata": {
        "id": "kM27yuTJscla"
      }
    },
    {
      "cell_type": "markdown",
      "source": [
        "#3 Compare and contrast mutable and immutable objects in Python with examples\n",
        "In Python, mutable and immutable objects are two fundamental categories that determine whether an object's state or content can be changed after its creation. Understanding the distinction between them is crucial for writing efficient and bug-free code. Here's a comprehensive comparison between mutable and immutable objects in Python, complete with examples\n",
        "\n",
        "Mutable Objects\n",
        "Definition: Mutable objects are those that can be modified after creation.\n",
        "Examples: Lists, dictionaries, sets, and most custom objects.\n",
        "Behavior: For mutable objects, methods that modify the object (like append for lists or update for dictionaries) change the object in place, which means they don't create a new object in memory. This allows for efficient in-place updates but requires caution in shared references, as changes affect all references to the object.\n",
        "Example"
      ],
      "metadata": {
        "id": "Y31JGu_-tiJr"
      }
    },
    {
      "cell_type": "code",
      "source": [
        "# Creating a mutable list\n",
        "my_list = [1, 2, 3]\n",
        "print(\"Original list:\", my_list)\n",
        "\n",
        "# Modifying the list\n",
        "my_list.append(4)\n",
        "print(\"Modified list:\", my_list)\n"
      ],
      "metadata": {
        "colab": {
          "base_uri": "https://localhost:8080/"
        },
        "id": "IdeYrpKLucyE",
        "outputId": "046871fc-06f1-4783-d2c0-7caea3e7401a"
      },
      "execution_count": null,
      "outputs": [
        {
          "output_type": "stream",
          "name": "stdout",
          "text": [
            "Original list: [1, 2, 3]\n",
            "Modified list: [1, 2, 3, 4]\n"
          ]
        }
      ]
    },
    {
      "cell_type": "markdown",
      "source": [
        "#Immutable Objects\n",
        "Definition: Immutable objects cannot be changed after they are created.\n",
        "Examples: Integers, floats, strings, tuples, and frozensets.\n",
        "Behavior: For immutable objects, any operation that would modify the object instead returns a new object. Because they are unchangeable, they are safer to use when you don’t want accidental modifications, and they are often hashable, which makes them usable as dictionary keys or set elements.\n",
        "Example"
      ],
      "metadata": {
        "id": "MU67I2xcu-Jq"
      }
    },
    {
      "cell_type": "code",
      "source": [
        "# Creating a string\n",
        "greeting = \"Hello\"\n",
        "print(f\"Original string: {greeting}\")  # Output: Hello\n",
        "\n",
        "# Attempting to modify the string\n",
        "try:\n",
        "    greeting[0] = 'h'  # Raises TypeError\n",
        "except TypeError as e:\n",
        "    print(f\"Error: {e}\")  # Output: 'str' object does not support item assignment\n",
        "\n",
        "# Creating a new string with modification\n",
        "new_greeting = 'h' + greeting[1:]\n",
        "print(f\"New string: {new_greeting}\")  # Output: hello\n",
        "\n"
      ],
      "metadata": {
        "colab": {
          "base_uri": "https://localhost:8080/"
        },
        "id": "VSFOGNefvDn6",
        "outputId": "10e4e4fe-c5b1-423d-993a-843689610718"
      },
      "execution_count": null,
      "outputs": [
        {
          "output_type": "stream",
          "name": "stdout",
          "text": [
            "Original string: Hello\n",
            "Error: 'str' object does not support item assignment\n",
            "New string: hello\n"
          ]
        }
      ]
    },
    {
      "cell_type": "markdown",
      "source": [
        "#4 Discuss the different types of operators in Python and provide examples of how they are used\n",
        "In Python, operators are symbols or keywords that perform operations on variables and values. There are several types of operators in Python, each serving a specific purpose.\n",
        " examples\n",
        " #1. Arithmetic Operators"
      ],
      "metadata": {
        "id": "IqXt5WglvrKR"
      }
    },
    {
      "cell_type": "code",
      "source": [
        "a = 10\n",
        "b = 3\n",
        "print(a + b)   # Output: 13\n",
        "print(a - b)   # Output: 7\n",
        "print(a * b)   # Output: 30\n",
        "print(a / b)   # Output: 3.333...\n",
        "print(a % b)   # Output: 1\n",
        "print(a ** b)  # Output: 1000\n",
        "print(a // b)  # Output: 3\n"
      ],
      "metadata": {
        "colab": {
          "base_uri": "https://localhost:8080/"
        },
        "id": "ZEhl7K-DwKlF",
        "outputId": "1d6ffacd-7450-42fb-86cf-bd32a3902d87"
      },
      "execution_count": null,
      "outputs": [
        {
          "output_type": "stream",
          "name": "stdout",
          "text": [
            "13\n",
            "7\n",
            "30\n",
            "3.3333333333333335\n",
            "1\n",
            "1000\n",
            "3\n"
          ]
        }
      ]
    },
    {
      "cell_type": "markdown",
      "source": [
        "2. Comparison Operators\n",
        "Comparison operators compare two values and return a Boolean value (True or False)."
      ],
      "metadata": {
        "id": "mo1dDltgwazZ"
      }
    },
    {
      "cell_type": "code",
      "source": [
        "a = 5\n",
        "b = 3\n",
        "print(a == b)  # Output: False\n",
        "print(a != b)  # Output: True\n",
        "print(a > b)   # Output: True\n",
        "print(a < b)   # Output: False\n",
        "print(a >= b)  # Output: True\n",
        "print(a <= b)  # Output: False\n"
      ],
      "metadata": {
        "colab": {
          "base_uri": "https://localhost:8080/"
        },
        "id": "_9mru53mwcYH",
        "outputId": "540c0aa3-a9a9-46ce-bb6b-fd79b6b7bd05"
      },
      "execution_count": null,
      "outputs": [
        {
          "output_type": "stream",
          "name": "stdout",
          "text": [
            "False\n",
            "True\n",
            "True\n",
            "False\n",
            "True\n",
            "False\n"
          ]
        }
      ]
    },
    {
      "cell_type": "markdown",
      "source": [
        "#3. Logical Operators\n",
        "Logical operators are used to combine conditional statements."
      ],
      "metadata": {
        "id": "_dGJ7mLfwm0x"
      }
    },
    {
      "cell_type": "code",
      "source": [
        "a = True\n",
        "b = False\n",
        "print(a and b)  # Output: False\n",
        "print(a or b)   # Output: True\n",
        "print(not a)    # Output: False\n"
      ],
      "metadata": {
        "colab": {
          "base_uri": "https://localhost:8080/"
        },
        "id": "tzC1_T3uwoX6",
        "outputId": "164840be-85de-472a-a95a-f4b811ce997e"
      },
      "execution_count": null,
      "outputs": [
        {
          "output_type": "stream",
          "name": "stdout",
          "text": [
            "False\n",
            "True\n",
            "False\n"
          ]
        }
      ]
    },
    {
      "cell_type": "markdown",
      "source": [
        "#4. Assignment Operators\n",
        "Assignment operators are used to assign values to variables."
      ],
      "metadata": {
        "id": "3KCNKplOwvsZ"
      }
    },
    {
      "cell_type": "code",
      "source": [
        "a = 10\n",
        "a += 5   # a = a + 5 → a = 15\n",
        "a *= 2   # a = a * 2 → a = 30\n",
        "print(a) # Output: 30\n"
      ],
      "metadata": {
        "colab": {
          "base_uri": "https://localhost:8080/"
        },
        "id": "u58Gxf7CwrAw",
        "outputId": "df92cd78-3233-40e7-e4db-5f1d5456562e"
      },
      "execution_count": null,
      "outputs": [
        {
          "output_type": "stream",
          "name": "stdout",
          "text": [
            "30\n"
          ]
        }
      ]
    },
    {
      "cell_type": "markdown",
      "source": [
        "#5. Bitwise Operators\n",
        "Bitwise operators operate on binary numbers at the bit level."
      ],
      "metadata": {
        "id": "0uole-hKw_Ap"
      }
    },
    {
      "cell_type": "code",
      "source": [
        "a = 5      # binary: 101\n",
        "b = 3      # binary: 011\n",
        "print(a & b)   # Output: 1\n",
        "print(a | b)   # Output: 7\n",
        "print(a ^ b)   # Output: 6\n",
        "print(~a)      # Output: -6\n",
        "print(a << 1)  # Output: 10\n",
        "print(a >> 1)  # Output: 2\n"
      ],
      "metadata": {
        "colab": {
          "base_uri": "https://localhost:8080/"
        },
        "id": "BuPDf1IQw6py",
        "outputId": "60d86793-31d2-4b27-a5d8-9832cd0edcc8"
      },
      "execution_count": null,
      "outputs": [
        {
          "output_type": "stream",
          "name": "stdout",
          "text": [
            "1\n",
            "7\n",
            "6\n",
            "-6\n",
            "10\n",
            "2\n"
          ]
        }
      ]
    },
    {
      "cell_type": "markdown",
      "source": [
        "#6. Membership Operators\n",
        "Membership operators are used to check if a value is present in a sequence like a list, tuple, or string."
      ],
      "metadata": {
        "id": "N2W8EgefxIup"
      }
    },
    {
      "cell_type": "code",
      "source": [
        "my_list = [1, 2, 3]\n",
        "print(2 in my_list)       # Output: True\n",
        "print(4 not in my_list)   # Output: True\n"
      ],
      "metadata": {
        "colab": {
          "base_uri": "https://localhost:8080/"
        },
        "id": "155RKimlxEkV",
        "outputId": "312b5a18-8f30-4e71-a02b-489ae77a5e81"
      },
      "execution_count": null,
      "outputs": [
        {
          "output_type": "stream",
          "name": "stdout",
          "text": [
            "True\n",
            "True\n"
          ]
        }
      ]
    },
    {
      "cell_type": "markdown",
      "source": [
        "#7. Identity Operators\n",
        "Identity operators are used to check if two variables reference the same object in memory.\n",
        "\n"
      ],
      "metadata": {
        "id": "RPcYq_ZzxUTh"
      }
    },
    {
      "cell_type": "code",
      "source": [
        "a = [1, 2, 3]\n",
        "b = a\n",
        "c = [1, 2, 3]\n",
        "\n",
        "print(a is b)      # Output: True (same object)\n",
        "print(a is c)      # Output: False (different object)\n",
        "print(a == c)      # Output: True (same values)\n"
      ],
      "metadata": {
        "colab": {
          "base_uri": "https://localhost:8080/"
        },
        "id": "2piq4egixOXK",
        "outputId": "053606fa-f9df-4bdf-a3f7-2c622f4d4514"
      },
      "execution_count": null,
      "outputs": [
        {
          "output_type": "stream",
          "name": "stdout",
          "text": [
            "True\n",
            "False\n",
            "True\n"
          ]
        }
      ]
    },
    {
      "cell_type": "markdown",
      "source": [
        "#5 Explain the concept of type casting in Python with examples\n",
        "\n",
        "In Python, type casting (or type conversion) is the process of converting a variable from one data type to another. This is often necessary when you want to perform operations that require operands to be of the same type, or when you need to explicitly control how data is handled in an operation.\n",
        "\n",
        "Python provides two types of casting:\n",
        "\n",
        "Implicit Type Casting (automatically done by Python)\n",
        "Explicit Type Casting (manually done by the programmer)\n",
        "#1. Implicit Type Casting\n",
        "In implicit casting, Python automatically converts one data type to another without any explicit instruction from the programmer. This often happens in operations where operands are of different types, and Python will automatically \"promote\" one of the types to avoid data loss.\n",
        "\n",
        "Example:"
      ],
      "metadata": {
        "id": "bATzBptoxw06"
      }
    },
    {
      "cell_type": "markdown",
      "source": [],
      "metadata": {
        "id": "cYBaalF3xwyT"
      }
    },
    {
      "cell_type": "code",
      "source": [
        "num_int = 10      # Integer\n",
        "num_float = 3.5   # Float\n",
        "\n",
        "# Adding integer and float results in a float (automatic conversion)\n",
        "result = num_int + num_float\n",
        "print(result)     # Output: 13.5\n",
        "print(type(result)) # Output: <class 'float'>\n"
      ],
      "metadata": {
        "colab": {
          "base_uri": "https://localhost:8080/"
        },
        "id": "AAUmV0j2xsQD",
        "outputId": "a3352e77-0440-45cc-bdc1-4e43c8341d71"
      },
      "execution_count": null,
      "outputs": [
        {
          "output_type": "stream",
          "name": "stdout",
          "text": [
            "13.5\n",
            "<class 'float'>\n"
          ]
        }
      ]
    },
    {
      "cell_type": "markdown",
      "source": [
        "#2. Explicit Type Casting\n",
        "Explicit type casting, or type conversion, is when you manually convert a variable from one type to another using Python's built-in functions like int(), float(), str(), etc. This is often necessary when converting between types that are not implicitly compatible.\n",
        "\n",
        "Common Type Casting Functions:\n",
        "int() - converts to an integer\n",
        "float() - converts to a floating-point number\n",
        "str() - converts to a string\n",
        "bool() - converts to a Boolean\n",
        "Examples:\n",
        "#a. Converting String to Integer"
      ],
      "metadata": {
        "id": "6qq0ez99yfY5"
      }
    },
    {
      "cell_type": "code",
      "source": [
        "num_str = \"25\"         # String\n",
        "num_int = int(num_str) # Convert to integer\n",
        "print(num_int)         # Output: 25\n",
        "print(type(num_int))   # Output: <class 'int'>\n"
      ],
      "metadata": {
        "colab": {
          "base_uri": "https://localhost:8080/"
        },
        "id": "k1se0fhSyTyR",
        "outputId": "6f01f6cf-a0e5-4da7-9677-4daa07decb4f"
      },
      "execution_count": null,
      "outputs": [
        {
          "output_type": "stream",
          "name": "stdout",
          "text": [
            "25\n",
            "<class 'int'>\n"
          ]
        }
      ]
    },
    {
      "cell_type": "markdown",
      "source": [
        "#b. Converting Integer to String\n",
        "\n",
        "\n"
      ],
      "metadata": {
        "id": "Y8w8dEVqymzB"
      }
    },
    {
      "cell_type": "code",
      "source": [
        "age = 30               # Integer\n",
        "age_str = str(age)     # Convert to string\n",
        "print(age_str)         # Output: '30'\n",
        "print(type(age_str))   # Output: <class 'str'>\n"
      ],
      "metadata": {
        "colab": {
          "base_uri": "https://localhost:8080/"
        },
        "id": "C-J7oyhTyl9u",
        "outputId": "64082e50-6c35-4367-cf0f-6589a8f5415b"
      },
      "execution_count": null,
      "outputs": [
        {
          "output_type": "stream",
          "name": "stdout",
          "text": [
            "30\n",
            "<class 'str'>\n"
          ]
        }
      ]
    },
    {
      "cell_type": "markdown",
      "source": [
        "###c. Converting Float to Integer When converting a float to an integer, Python will drop the decimal part and retain only the integer part."
      ],
      "metadata": {
        "id": "QthjV-PIywXp"
      }
    },
    {
      "cell_type": "code",
      "source": [
        "num_float = 9.8\n",
        "num_int = int(num_float)\n",
        "print(num_int)         # Output: 9\n"
      ],
      "metadata": {
        "colab": {
          "base_uri": "https://localhost:8080/"
        },
        "id": "VMK_X44ayvPC",
        "outputId": "640e3c49-e7f4-4eb5-dac8-76d5d3401489"
      },
      "execution_count": null,
      "outputs": [
        {
          "output_type": "stream",
          "name": "stdout",
          "text": [
            "9\n"
          ]
        }
      ]
    },
    {
      "cell_type": "markdown",
      "source": [
        "###d. Converting String to Float"
      ],
      "metadata": {
        "id": "_tE7ntJUzAAC"
      }
    },
    {
      "cell_type": "code",
      "source": [
        "num_str = \"3.14\"\n",
        "num_float = float(num_str)\n",
        "print(num_float)       # Output: 3.14\n",
        "print(type(num_float)) # Output: <class 'float'>\n"
      ],
      "metadata": {
        "colab": {
          "base_uri": "https://localhost:8080/"
        },
        "id": "r7gsbWT6y5H3",
        "outputId": "54ed2f59-2e30-4e7a-b989-0ff72f5137cf"
      },
      "execution_count": null,
      "outputs": [
        {
          "output_type": "stream",
          "name": "stdout",
          "text": [
            "3.14\n",
            "<class 'float'>\n"
          ]
        }
      ]
    },
    {
      "cell_type": "markdown",
      "source": [
        "Important Note on Explicit Type Casting:\n",
        "Not all conversions are valid. For example, attempting to convert a non-numeric string to an integer or float will raise an error.\n",
        "\n",
        "python\n",
        "Copy code\n"
      ],
      "metadata": {
        "id": "WsVx2DD5zMJT"
      }
    },
    {
      "cell_type": "code",
      "source": [
        "text = \"hello\"\n",
        "num = int(text)    # Raises ValueError: invalid literal for int()\n"
      ],
      "metadata": {
        "id": "uHxs3IGqzLUY"
      },
      "execution_count": null,
      "outputs": []
    },
    {
      "cell_type": "markdown",
      "source": [
        "Implicit casting: Python handles automatically (e.g., int + float → float).\n",
        "\n",
        "Explicit casting: Requires specific functions (e.g., int(), float(), str())"
      ],
      "metadata": {
        "id": "KQhD96igzeVj"
      }
    },
    {
      "cell_type": "markdown",
      "source": [],
      "metadata": {
        "id": "nmhIl_qmzfPZ"
      }
    },
    {
      "cell_type": "markdown",
      "source": [
        "#6 How do conditional statements work in Python? Illustrate with examples\n",
        "\n",
        "Conditional statements in Python are used to execute code based on whether certain conditions are met. The main conditional statements are if, elif, and else, which allow you to control the flow of your program depending on different conditions.\n",
        "\n",
        "Here’s how each of these statements works:\n",
        "\n",
        "if Statement: The if statement evaluates a condition and executes the block of code that follows it if the condition is True.\n",
        "\n",
        "elif (else if) Statement: The elif statement allows you to check multiple conditions after the initial if. If the if condition is False, Python moves to the elif condition. You can have multiple elif statements to check various conditions.\n",
        "\n",
        "else Statement: The else statement executes when all previous conditions (if and elif) are False. Only one else is allowed, and it must be the last part of the conditional structure.\n",
        "\n",
        "Here’s an example illustrating each of these statements:"
      ],
      "metadata": {
        "id": "jF-ATFpkzsrJ"
      }
    },
    {
      "cell_type": "code",
      "source": [
        "age = 20\n",
        "\n",
        "if age < 18:\n",
        "    print(\"You are a minor.\")\n",
        "elif age >= 18 and age < 65:\n",
        "    print(\"You are an adult.\")\n",
        "else:\n",
        "    print(\"You are a senior citizen.\")\n"
      ],
      "metadata": {
        "colab": {
          "base_uri": "https://localhost:8080/"
        },
        "id": "9MfGu_8FzU0A",
        "outputId": "0f97b644-3fda-4449-efa6-5f1eea74a60e"
      },
      "execution_count": null,
      "outputs": [
        {
          "output_type": "stream",
          "name": "stdout",
          "text": [
            "You are an adult.\n"
          ]
        }
      ]
    },
    {
      "cell_type": "markdown",
      "source": [
        "Explanation of the Example:\n",
        "\n",
        "If age is less than 18, the output will be \"You are a minor.\".\n",
        "\n",
        "If age is between 18 and 64, it will output \"You are an adult.\".\n",
        "\n",
        "If age is 65 or above, it will output \"You are a senior citizen.\".\n",
        "Example of Nested Conditional Statements\n",
        "\n",
        "You can also nest conditional statements, meaning an if statement inside another if or elif.\n",
        "Here’s an example:"
      ],
      "metadata": {
        "id": "ks6HGRYV0OE2"
      }
    },
    {
      "cell_type": "code",
      "source": [
        "number = 15\n",
        "\n",
        "if number > 0:\n",
        "    if number % 2 == 0:\n",
        "        print(\"The number is positive and even.\")\n",
        "    else:\n",
        "        print(\"The number is positive and odd.\")\n",
        "else:\n",
        "    print(\"The number is not positive.\")\n"
      ],
      "metadata": {
        "colab": {
          "base_uri": "https://localhost:8080/"
        },
        "id": "LQLHjmVI0Gni",
        "outputId": "76d3eaae-6e62-4430-92ed-79d2da51ef71"
      },
      "execution_count": null,
      "outputs": [
        {
          "output_type": "stream",
          "name": "stdout",
          "text": [
            "The number is positive and odd.\n"
          ]
        }
      ]
    },
    {
      "cell_type": "markdown",
      "source": [
        "In this example:\n",
        "\n",
        "\n",
        "If number is greater than 0, it goes on to check if it's even or odd.\n",
        "\n",
        "If number is 0 or negative, it skips the nested conditions and outputs \"The number is not positive.\"."
      ],
      "metadata": {
        "id": "ZcedB9uX0l6J"
      }
    },
    {
      "cell_type": "markdown",
      "source": [
        "#7 Describe the different types of loops in Python and their use cases with examples\n",
        "Python offers several types of loops, each with its own specific use cases and advantages. Here are the main types of loops:\n",
        "\n",
        "#1. for Loop\n",
        "The for loop is used to iterate over a sequence (like a list, tuple, dictionary, set, or string) or any other iterable object. It's best used when you know the number of iterations in advance.\n",
        "\n",
        "Syntax:\n",
        "for element in iterable:\n",
        "    # code block to execute on each element\n",
        "\n",
        "Example:"
      ],
      "metadata": {
        "id": "gWDTIo1C0l36"
      }
    },
    {
      "cell_type": "code",
      "source": [
        "# Iterating over a list\n",
        "fruits = [\"apple\", \"banana\", \"cherry\"]\n",
        "for fruit in fruits:\n",
        "    print(fruit)\n",
        "# Output:\n",
        "# apple\n",
        "# banana\n",
        "# cherry\n"
      ],
      "metadata": {
        "colab": {
          "base_uri": "https://localhost:8080/"
        },
        "id": "S4STq6zP0_A6",
        "outputId": "bc34ff08-b243-471e-e623-2b45d4f26606"
      },
      "execution_count": null,
      "outputs": [
        {
          "output_type": "stream",
          "name": "stdout",
          "text": [
            "apple\n",
            "banana\n",
            "cherry\n"
          ]
        }
      ]
    },
    {
      "cell_type": "markdown",
      "source": [
        "Use Case:\n",
        "When you need to process each item in a collection one by one.\n",
        "\n",
        "Can also be used with range() for numeric ranges, such as counting."
      ],
      "metadata": {
        "id": "bViZuXlj1ZVn"
      }
    },
    {
      "cell_type": "code",
      "source": [
        "# Using range to iterate through numbers\n",
        "for i in range(5):\n",
        "    print(i)\n",
        "# Output:\n",
        "# 0\n",
        "# 1\n",
        "# 2\n",
        "# 3\n",
        "# 4\n"
      ],
      "metadata": {
        "colab": {
          "base_uri": "https://localhost:8080/"
        },
        "id": "jVXwtlIw1TG2",
        "outputId": "abb0e730-0f05-4645-8fee-50227d54b7c3"
      },
      "execution_count": null,
      "outputs": [
        {
          "output_type": "stream",
          "name": "stdout",
          "text": [
            "0\n",
            "1\n",
            "2\n",
            "3\n",
            "4\n"
          ]
        }
      ]
    },
    {
      "cell_type": "markdown",
      "source": [
        "#2. while Loop\n",
        "The while loop continues executing as long as a given condition is true. It’s best when the number of iterations isn’t predetermined.\n",
        "\n",
        "Syntax:\n",
        "while condition:\n",
        "    # code block to execute\n",
        "    Example:"
      ],
      "metadata": {
        "id": "dT95RFMW1o0a"
      }
    },
    {
      "cell_type": "code",
      "source": [
        "# Counting down from 5 to 1\n",
        "count = 5\n",
        "while count > 0:\n",
        "    print(count)\n",
        "    count -= 1\n",
        "# Output:\n",
        "# 5\n",
        "# 4\n",
        "# 3\n",
        "# 2\n",
        "# 1\n"
      ],
      "metadata": {
        "colab": {
          "base_uri": "https://localhost:8080/"
        },
        "id": "j3Roo1Cs1ePW",
        "outputId": "215b1501-8987-4c94-a430-c0684b72f659"
      },
      "execution_count": null,
      "outputs": [
        {
          "output_type": "stream",
          "name": "stdout",
          "text": [
            "5\n",
            "4\n",
            "3\n",
            "2\n",
            "1\n"
          ]
        }
      ]
    },
    {
      "cell_type": "markdown",
      "source": [
        "#Use Case:\n",
        "Useful when the loop should run until a condition changes (e.g., waiting for user input or until data processing is complete).\n",
        "#3. Nested Loops\n",
        "A loop inside another loop is called a nested loop. You can nest any type of loop (e.g., a for loop inside a while loop or vice versa). This is useful when dealing with multi-dimensional data structures like lists of lists.\n",
        "\n",
        "Example:"
      ],
      "metadata": {
        "id": "8MwDySWE16Ks"
      }
    },
    {
      "cell_type": "code",
      "source": [
        "# Iterating over a 2D list\n",
        "matrix = [[1, 2, 3], [4, 5, 6], [7, 8, 9]]\n",
        "for row in matrix:\n",
        "    for element in row:\n",
        "        print(element, end=\" \")\n",
        "    print()\n",
        "# Output:\n",
        "# 1 2 3\n",
        "# 4 5 6\n",
        "# 7 8 9\n"
      ],
      "metadata": {
        "colab": {
          "base_uri": "https://localhost:8080/"
        },
        "id": "V6Zq7JTQ11uY",
        "outputId": "240cb566-b976-4eff-b127-75da534f1719"
      },
      "execution_count": null,
      "outputs": [
        {
          "output_type": "stream",
          "name": "stdout",
          "text": [
            "1 2 3 \n",
            "4 5 6 \n",
            "7 8 9 \n"
          ]
        }
      ]
    },
    {
      "cell_type": "markdown",
      "source": [
        "3Use Case:\n",
        "Often used in data processing tasks that require iterating over multiple dimensions.\n",
        "#4. for loop with else and while loop with else\n",
        "In Python, you can add an else clause to a for or while loop. The else part executes after the loop completes normally (i.e., without a break statement).\n",
        "\n",
        "Example:"
      ],
      "metadata": {
        "id": "TL2XHbsB2INx"
      }
    },
    {
      "cell_type": "code",
      "source": [
        "# Using else with for loop\n",
        "for i in range(3):\n",
        "    print(i)\n",
        "else:\n",
        "    print(\"Loop completed without break.\")\n",
        "# Output:\n",
        "# 0\n",
        "# 1\n",
        "# 2\n",
        "# Loop completed without break.\n"
      ],
      "metadata": {
        "colab": {
          "base_uri": "https://localhost:8080/"
        },
        "id": "qhWOVCm51_-o",
        "outputId": "f134025d-dbc7-420c-aec1-88d14511988e"
      },
      "execution_count": null,
      "outputs": [
        {
          "output_type": "stream",
          "name": "stdout",
          "text": [
            "0\n",
            "1\n",
            "2\n",
            "Loop completed without break.\n"
          ]
        }
      ]
    },
    {
      "cell_type": "markdown",
      "source": [
        "#Use Case:\n",
        "else is useful if you want to execute code only if the loop wasn’t terminated by break.\n",
        "#5. Loop Control Statements\n",
        "Python also provides statements to control the behavior of loops: break, continue, and pass.\n",
        "\n",
        "break Statement\n",
        "Exits the loop immediately, regardless of the loop condition.\n",
        "\n",
        "Example:"
      ],
      "metadata": {
        "id": "1nOThjiA2Uex"
      }
    },
    {
      "cell_type": "code",
      "source": [
        "for i in range(5):\n",
        "    if i == 3:\n",
        "        break\n",
        "    print(i)\n",
        "# Output:\n",
        "# 0\n",
        "# 1\n",
        "# 2\n"
      ],
      "metadata": {
        "colab": {
          "base_uri": "https://localhost:8080/"
        },
        "id": "FqC8uHP62O6A",
        "outputId": "5e883431-8f33-4c37-f2dc-ec9e62da1188"
      },
      "execution_count": null,
      "outputs": [
        {
          "output_type": "stream",
          "name": "stdout",
          "text": [
            "0\n",
            "1\n",
            "2\n"
          ]
        }
      ]
    },
    {
      "cell_type": "markdown",
      "source": [
        "#Use Case:\n",
        "Use break to stop the loop when a specific condition is met (e.g., searching for an item and stopping when found).\n",
        "continue Statement\n",
        "#Skips the rest of the code inside the loop for the current iteration and moves to the next iteration.\n",
        "\n",
        "Example:"
      ],
      "metadata": {
        "id": "YX_eIkyq2hD9"
      }
    },
    {
      "cell_type": "code",
      "source": [
        "for i in range(5):\n",
        "    if i == 2:\n",
        "        continue\n",
        "    print(i)\n",
        "# Output:\n",
        "# 0\n",
        "# 1\n",
        "# 3\n",
        "# 4\n"
      ],
      "metadata": {
        "colab": {
          "base_uri": "https://localhost:8080/"
        },
        "id": "LTzRvl-r2ado",
        "outputId": "93884f5c-8edc-4026-be7b-a07c769a24ed"
      },
      "execution_count": null,
      "outputs": [
        {
          "output_type": "stream",
          "name": "stdout",
          "text": [
            "0\n",
            "1\n",
            "3\n",
            "4\n"
          ]
        }
      ]
    },
    {
      "cell_type": "markdown",
      "source": [
        "#Use Case:\n",
        "Use continue when you need to skip specific conditions within a loop.\n",
        "pass Statement\n",
        "#Does nothing and is a placeholder. It's often used for code that’s yet to be written.\n",
        "\n",
        "Example:"
      ],
      "metadata": {
        "id": "VaU24HXf2qk9"
      }
    },
    {
      "cell_type": "code",
      "source": [
        "for i in range(5):\n",
        "    if i == 2:\n",
        "        pass\n",
        "    print(i)\n",
        "# Output:\n",
        "# 0\n",
        "# 1\n",
        "# 2\n",
        "# 3\n",
        "# 4\n"
      ],
      "metadata": {
        "colab": {
          "base_uri": "https://localhost:8080/"
        },
        "id": "Bgf_yc1i2pk-",
        "outputId": "d0b30dc3-d09f-43eb-9440-fa99b09eedc3"
      },
      "execution_count": null,
      "outputs": [
        {
          "output_type": "stream",
          "name": "stdout",
          "text": [
            "0\n",
            "1\n",
            "2\n",
            "3\n",
            "4\n"
          ]
        }
      ]
    },
    {
      "cell_type": "markdown",
      "source": [
        "#Use Case:\n",
        "Use pass as a placeholder during development when you haven’t written the logic yet."
      ],
      "metadata": {
        "id": "hiWYUAEG25T8"
      }
    },
    {
      "cell_type": "code",
      "source": [
        "cd my_assignment1"
      ],
      "metadata": {
        "colab": {
          "base_uri": "https://localhost:8080/"
        },
        "id": "A7XavYX0qbPv",
        "outputId": "c01f10ba-9119-4f73-a1ec-e67f333a1cd7"
      },
      "execution_count": null,
      "outputs": [
        {
          "output_type": "stream",
          "name": "stdout",
          "text": [
            "/content/my_assignment1\n"
          ]
        }
      ]
    },
    {
      "cell_type": "code",
      "source": [
        "from google.colab import files\n",
        "upload = files.upload()"
      ],
      "metadata": {
        "colab": {
          "base_uri": "https://localhost:8080/",
          "height": 74
        },
        "id": "EO3EFaLeqgiQ",
        "outputId": "e32c247f-cb5b-4e04-cd15-b3cf2aa444ad"
      },
      "execution_count": null,
      "outputs": [
        {
          "output_type": "display_data",
          "data": {
            "text/plain": [
              "<IPython.core.display.HTML object>"
            ],
            "text/html": [
              "\n",
              "     <input type=\"file\" id=\"files-a463b171-005d-43c6-85dd-c01d3eadee86\" name=\"files[]\" multiple disabled\n",
              "        style=\"border:none\" />\n",
              "     <output id=\"result-a463b171-005d-43c6-85dd-c01d3eadee86\">\n",
              "      Upload widget is only available when the cell has been executed in the\n",
              "      current browser session. Please rerun this cell to enable.\n",
              "      </output>\n",
              "      <script>// Copyright 2017 Google LLC\n",
              "//\n",
              "// Licensed under the Apache License, Version 2.0 (the \"License\");\n",
              "// you may not use this file except in compliance with the License.\n",
              "// You may obtain a copy of the License at\n",
              "//\n",
              "//      http://www.apache.org/licenses/LICENSE-2.0\n",
              "//\n",
              "// Unless required by applicable law or agreed to in writing, software\n",
              "// distributed under the License is distributed on an \"AS IS\" BASIS,\n",
              "// WITHOUT WARRANTIES OR CONDITIONS OF ANY KIND, either express or implied.\n",
              "// See the License for the specific language governing permissions and\n",
              "// limitations under the License.\n",
              "\n",
              "/**\n",
              " * @fileoverview Helpers for google.colab Python module.\n",
              " */\n",
              "(function(scope) {\n",
              "function span(text, styleAttributes = {}) {\n",
              "  const element = document.createElement('span');\n",
              "  element.textContent = text;\n",
              "  for (const key of Object.keys(styleAttributes)) {\n",
              "    element.style[key] = styleAttributes[key];\n",
              "  }\n",
              "  return element;\n",
              "}\n",
              "\n",
              "// Max number of bytes which will be uploaded at a time.\n",
              "const MAX_PAYLOAD_SIZE = 100 * 1024;\n",
              "\n",
              "function _uploadFiles(inputId, outputId) {\n",
              "  const steps = uploadFilesStep(inputId, outputId);\n",
              "  const outputElement = document.getElementById(outputId);\n",
              "  // Cache steps on the outputElement to make it available for the next call\n",
              "  // to uploadFilesContinue from Python.\n",
              "  outputElement.steps = steps;\n",
              "\n",
              "  return _uploadFilesContinue(outputId);\n",
              "}\n",
              "\n",
              "// This is roughly an async generator (not supported in the browser yet),\n",
              "// where there are multiple asynchronous steps and the Python side is going\n",
              "// to poll for completion of each step.\n",
              "// This uses a Promise to block the python side on completion of each step,\n",
              "// then passes the result of the previous step as the input to the next step.\n",
              "function _uploadFilesContinue(outputId) {\n",
              "  const outputElement = document.getElementById(outputId);\n",
              "  const steps = outputElement.steps;\n",
              "\n",
              "  const next = steps.next(outputElement.lastPromiseValue);\n",
              "  return Promise.resolve(next.value.promise).then((value) => {\n",
              "    // Cache the last promise value to make it available to the next\n",
              "    // step of the generator.\n",
              "    outputElement.lastPromiseValue = value;\n",
              "    return next.value.response;\n",
              "  });\n",
              "}\n",
              "\n",
              "/**\n",
              " * Generator function which is called between each async step of the upload\n",
              " * process.\n",
              " * @param {string} inputId Element ID of the input file picker element.\n",
              " * @param {string} outputId Element ID of the output display.\n",
              " * @return {!Iterable<!Object>} Iterable of next steps.\n",
              " */\n",
              "function* uploadFilesStep(inputId, outputId) {\n",
              "  const inputElement = document.getElementById(inputId);\n",
              "  inputElement.disabled = false;\n",
              "\n",
              "  const outputElement = document.getElementById(outputId);\n",
              "  outputElement.innerHTML = '';\n",
              "\n",
              "  const pickedPromise = new Promise((resolve) => {\n",
              "    inputElement.addEventListener('change', (e) => {\n",
              "      resolve(e.target.files);\n",
              "    });\n",
              "  });\n",
              "\n",
              "  const cancel = document.createElement('button');\n",
              "  inputElement.parentElement.appendChild(cancel);\n",
              "  cancel.textContent = 'Cancel upload';\n",
              "  const cancelPromise = new Promise((resolve) => {\n",
              "    cancel.onclick = () => {\n",
              "      resolve(null);\n",
              "    };\n",
              "  });\n",
              "\n",
              "  // Wait for the user to pick the files.\n",
              "  const files = yield {\n",
              "    promise: Promise.race([pickedPromise, cancelPromise]),\n",
              "    response: {\n",
              "      action: 'starting',\n",
              "    }\n",
              "  };\n",
              "\n",
              "  cancel.remove();\n",
              "\n",
              "  // Disable the input element since further picks are not allowed.\n",
              "  inputElement.disabled = true;\n",
              "\n",
              "  if (!files) {\n",
              "    return {\n",
              "      response: {\n",
              "        action: 'complete',\n",
              "      }\n",
              "    };\n",
              "  }\n",
              "\n",
              "  for (const file of files) {\n",
              "    const li = document.createElement('li');\n",
              "    li.append(span(file.name, {fontWeight: 'bold'}));\n",
              "    li.append(span(\n",
              "        `(${file.type || 'n/a'}) - ${file.size} bytes, ` +\n",
              "        `last modified: ${\n",
              "            file.lastModifiedDate ? file.lastModifiedDate.toLocaleDateString() :\n",
              "                                    'n/a'} - `));\n",
              "    const percent = span('0% done');\n",
              "    li.appendChild(percent);\n",
              "\n",
              "    outputElement.appendChild(li);\n",
              "\n",
              "    const fileDataPromise = new Promise((resolve) => {\n",
              "      const reader = new FileReader();\n",
              "      reader.onload = (e) => {\n",
              "        resolve(e.target.result);\n",
              "      };\n",
              "      reader.readAsArrayBuffer(file);\n",
              "    });\n",
              "    // Wait for the data to be ready.\n",
              "    let fileData = yield {\n",
              "      promise: fileDataPromise,\n",
              "      response: {\n",
              "        action: 'continue',\n",
              "      }\n",
              "    };\n",
              "\n",
              "    // Use a chunked sending to avoid message size limits. See b/62115660.\n",
              "    let position = 0;\n",
              "    do {\n",
              "      const length = Math.min(fileData.byteLength - position, MAX_PAYLOAD_SIZE);\n",
              "      const chunk = new Uint8Array(fileData, position, length);\n",
              "      position += length;\n",
              "\n",
              "      const base64 = btoa(String.fromCharCode.apply(null, chunk));\n",
              "      yield {\n",
              "        response: {\n",
              "          action: 'append',\n",
              "          file: file.name,\n",
              "          data: base64,\n",
              "        },\n",
              "      };\n",
              "\n",
              "      let percentDone = fileData.byteLength === 0 ?\n",
              "          100 :\n",
              "          Math.round((position / fileData.byteLength) * 100);\n",
              "      percent.textContent = `${percentDone}% done`;\n",
              "\n",
              "    } while (position < fileData.byteLength);\n",
              "  }\n",
              "\n",
              "  // All done.\n",
              "  yield {\n",
              "    response: {\n",
              "      action: 'complete',\n",
              "    }\n",
              "  };\n",
              "}\n",
              "\n",
              "scope.google = scope.google || {};\n",
              "scope.google.colab = scope.google.colab || {};\n",
              "scope.google.colab._files = {\n",
              "  _uploadFiles,\n",
              "  _uploadFilesContinue,\n",
              "};\n",
              "})(self);\n",
              "</script> "
            ]
          },
          "metadata": {}
        },
        {
          "output_type": "stream",
          "name": "stdout",
          "text": [
            "Saving python_assignment1.py to python_assignment1.py\n"
          ]
        }
      ]
    },
    {
      "cell_type": "code",
      "source": [],
      "metadata": {
        "id": "WtIE9UT_quCN"
      },
      "execution_count": null,
      "outputs": []
    }
  ]
}